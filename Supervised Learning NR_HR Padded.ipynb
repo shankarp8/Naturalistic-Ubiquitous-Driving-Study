{
 "cells": [
  {
   "cell_type": "code",
   "execution_count": 1,
   "metadata": {},
   "outputs": [],
   "source": [
    "import pandas as pd\n",
    "import numpy as np\n",
    "import matplotlib.pyplot as plt"
   ]
  },
  {
   "cell_type": "code",
   "execution_count": 2,
   "metadata": {},
   "outputs": [],
   "source": [
    "df=pd.read_csv('Padded.csv')"
   ]
  },
  {
   "cell_type": "code",
   "execution_count": 3,
   "metadata": {},
   "outputs": [
    {
     "data": {
      "text/html": [
       "<div>\n",
       "<style scoped>\n",
       "    .dataframe tbody tr th:only-of-type {\n",
       "        vertical-align: middle;\n",
       "    }\n",
       "\n",
       "    .dataframe tbody tr th {\n",
       "        vertical-align: top;\n",
       "    }\n",
       "\n",
       "    .dataframe thead th {\n",
       "        text-align: right;\n",
       "    }\n",
       "</style>\n",
       "<table border=\"1\" class=\"dataframe\">\n",
       "  <thead>\n",
       "    <tr style=\"text-align: right;\">\n",
       "      <th></th>\n",
       "      <th>Unnamed: 0</th>\n",
       "      <th>Time</th>\n",
       "      <th>P_ID</th>\n",
       "      <th>Speed_MPH</th>\n",
       "      <th>ATP</th>\n",
       "      <th>BPM</th>\n",
       "      <th>JF</th>\n",
       "      <th>FF</th>\n",
       "      <th>Src_Weather_Info</th>\n",
       "      <th>NR_HR</th>\n",
       "      <th>...</th>\n",
       "      <th>Trait_Anxiety</th>\n",
       "      <th>Extraversion</th>\n",
       "      <th>Agreeableness</th>\n",
       "      <th>Conscientiousness</th>\n",
       "      <th>Neuroticism</th>\n",
       "      <th>Openness</th>\n",
       "      <th>Weekday</th>\n",
       "      <th>Weekend</th>\n",
       "      <th>Gender_Female</th>\n",
       "      <th>Gender_Male</th>\n",
       "    </tr>\n",
       "  </thead>\n",
       "  <tbody>\n",
       "    <tr>\n",
       "      <th>0</th>\n",
       "      <td>154496</td>\n",
       "      <td>2022-05-16 08:01:40</td>\n",
       "      <td>P15</td>\n",
       "      <td>0.0</td>\n",
       "      <td>31.80000</td>\n",
       "      <td>105.0</td>\n",
       "      <td>0.64059</td>\n",
       "      <td>34.05</td>\n",
       "      <td>Clear</td>\n",
       "      <td>22.532948</td>\n",
       "      <td>...</td>\n",
       "      <td>38</td>\n",
       "      <td>10</td>\n",
       "      <td>8</td>\n",
       "      <td>6</td>\n",
       "      <td>7</td>\n",
       "      <td>6</td>\n",
       "      <td>1</td>\n",
       "      <td>0</td>\n",
       "      <td>1</td>\n",
       "      <td>0</td>\n",
       "    </tr>\n",
       "    <tr>\n",
       "      <th>1</th>\n",
       "      <td>154497</td>\n",
       "      <td>2022-05-16 08:01:41</td>\n",
       "      <td>P15</td>\n",
       "      <td>0.0</td>\n",
       "      <td>31.80000</td>\n",
       "      <td>105.0</td>\n",
       "      <td>0.64059</td>\n",
       "      <td>34.05</td>\n",
       "      <td>Clear</td>\n",
       "      <td>22.532948</td>\n",
       "      <td>...</td>\n",
       "      <td>38</td>\n",
       "      <td>10</td>\n",
       "      <td>8</td>\n",
       "      <td>6</td>\n",
       "      <td>7</td>\n",
       "      <td>6</td>\n",
       "      <td>1</td>\n",
       "      <td>0</td>\n",
       "      <td>1</td>\n",
       "      <td>0</td>\n",
       "    </tr>\n",
       "    <tr>\n",
       "      <th>2</th>\n",
       "      <td>154498</td>\n",
       "      <td>2022-05-16 08:01:42</td>\n",
       "      <td>P15</td>\n",
       "      <td>0.0</td>\n",
       "      <td>31.80000</td>\n",
       "      <td>105.0</td>\n",
       "      <td>0.64059</td>\n",
       "      <td>34.05</td>\n",
       "      <td>Clear</td>\n",
       "      <td>22.532948</td>\n",
       "      <td>...</td>\n",
       "      <td>38</td>\n",
       "      <td>10</td>\n",
       "      <td>8</td>\n",
       "      <td>6</td>\n",
       "      <td>7</td>\n",
       "      <td>6</td>\n",
       "      <td>1</td>\n",
       "      <td>0</td>\n",
       "      <td>1</td>\n",
       "      <td>0</td>\n",
       "    </tr>\n",
       "    <tr>\n",
       "      <th>3</th>\n",
       "      <td>154499</td>\n",
       "      <td>2022-05-16 08:01:43</td>\n",
       "      <td>P15</td>\n",
       "      <td>0.0</td>\n",
       "      <td>31.80000</td>\n",
       "      <td>105.0</td>\n",
       "      <td>0.64059</td>\n",
       "      <td>34.05</td>\n",
       "      <td>Clear</td>\n",
       "      <td>22.532948</td>\n",
       "      <td>...</td>\n",
       "      <td>38</td>\n",
       "      <td>10</td>\n",
       "      <td>8</td>\n",
       "      <td>6</td>\n",
       "      <td>7</td>\n",
       "      <td>6</td>\n",
       "      <td>1</td>\n",
       "      <td>0</td>\n",
       "      <td>1</td>\n",
       "      <td>0</td>\n",
       "    </tr>\n",
       "    <tr>\n",
       "      <th>4</th>\n",
       "      <td>154500</td>\n",
       "      <td>2022-05-16 08:01:44</td>\n",
       "      <td>P15</td>\n",
       "      <td>0.0</td>\n",
       "      <td>31.80000</td>\n",
       "      <td>105.0</td>\n",
       "      <td>0.64059</td>\n",
       "      <td>34.05</td>\n",
       "      <td>Clear</td>\n",
       "      <td>22.532948</td>\n",
       "      <td>...</td>\n",
       "      <td>38</td>\n",
       "      <td>10</td>\n",
       "      <td>8</td>\n",
       "      <td>6</td>\n",
       "      <td>7</td>\n",
       "      <td>6</td>\n",
       "      <td>1</td>\n",
       "      <td>0</td>\n",
       "      <td>1</td>\n",
       "      <td>0</td>\n",
       "    </tr>\n",
       "    <tr>\n",
       "      <th>...</th>\n",
       "      <td>...</td>\n",
       "      <td>...</td>\n",
       "      <td>...</td>\n",
       "      <td>...</td>\n",
       "      <td>...</td>\n",
       "      <td>...</td>\n",
       "      <td>...</td>\n",
       "      <td>...</td>\n",
       "      <td>...</td>\n",
       "      <td>...</td>\n",
       "      <td>...</td>\n",
       "      <td>...</td>\n",
       "      <td>...</td>\n",
       "      <td>...</td>\n",
       "      <td>...</td>\n",
       "      <td>...</td>\n",
       "      <td>...</td>\n",
       "      <td>...</td>\n",
       "      <td>...</td>\n",
       "      <td>...</td>\n",
       "      <td>...</td>\n",
       "    </tr>\n",
       "    <tr>\n",
       "      <th>330250</th>\n",
       "      <td>2834894</td>\n",
       "      <td>2022-07-31 20:30:11</td>\n",
       "      <td>P37</td>\n",
       "      <td>0.0</td>\n",
       "      <td>15.30000</td>\n",
       "      <td>98.0</td>\n",
       "      <td>1.26696</td>\n",
       "      <td>34.42</td>\n",
       "      <td>Clear</td>\n",
       "      <td>30.373140</td>\n",
       "      <td>...</td>\n",
       "      <td>38</td>\n",
       "      <td>3</td>\n",
       "      <td>8</td>\n",
       "      <td>6</td>\n",
       "      <td>4</td>\n",
       "      <td>6</td>\n",
       "      <td>0</td>\n",
       "      <td>1</td>\n",
       "      <td>0</td>\n",
       "      <td>1</td>\n",
       "    </tr>\n",
       "    <tr>\n",
       "      <th>330251</th>\n",
       "      <td>2834889</td>\n",
       "      <td>2022-07-31 20:30:12</td>\n",
       "      <td>P37</td>\n",
       "      <td>0.0</td>\n",
       "      <td>15.03333</td>\n",
       "      <td>98.0</td>\n",
       "      <td>1.26696</td>\n",
       "      <td>34.42</td>\n",
       "      <td>Clear</td>\n",
       "      <td>30.373140</td>\n",
       "      <td>...</td>\n",
       "      <td>38</td>\n",
       "      <td>3</td>\n",
       "      <td>8</td>\n",
       "      <td>6</td>\n",
       "      <td>4</td>\n",
       "      <td>6</td>\n",
       "      <td>0</td>\n",
       "      <td>1</td>\n",
       "      <td>0</td>\n",
       "      <td>1</td>\n",
       "    </tr>\n",
       "    <tr>\n",
       "      <th>330252</th>\n",
       "      <td>2834890</td>\n",
       "      <td>2022-07-31 20:30:13</td>\n",
       "      <td>P37</td>\n",
       "      <td>0.0</td>\n",
       "      <td>15.00000</td>\n",
       "      <td>98.0</td>\n",
       "      <td>1.26696</td>\n",
       "      <td>34.42</td>\n",
       "      <td>Clear</td>\n",
       "      <td>30.373140</td>\n",
       "      <td>...</td>\n",
       "      <td>38</td>\n",
       "      <td>3</td>\n",
       "      <td>8</td>\n",
       "      <td>6</td>\n",
       "      <td>4</td>\n",
       "      <td>6</td>\n",
       "      <td>0</td>\n",
       "      <td>1</td>\n",
       "      <td>0</td>\n",
       "      <td>1</td>\n",
       "    </tr>\n",
       "    <tr>\n",
       "      <th>330253</th>\n",
       "      <td>2834891</td>\n",
       "      <td>2022-07-31 20:30:14</td>\n",
       "      <td>P37</td>\n",
       "      <td>0.0</td>\n",
       "      <td>15.30000</td>\n",
       "      <td>NaN</td>\n",
       "      <td>1.26696</td>\n",
       "      <td>34.42</td>\n",
       "      <td>Clear</td>\n",
       "      <td>NaN</td>\n",
       "      <td>...</td>\n",
       "      <td>38</td>\n",
       "      <td>3</td>\n",
       "      <td>8</td>\n",
       "      <td>6</td>\n",
       "      <td>4</td>\n",
       "      <td>6</td>\n",
       "      <td>0</td>\n",
       "      <td>1</td>\n",
       "      <td>0</td>\n",
       "      <td>1</td>\n",
       "    </tr>\n",
       "    <tr>\n",
       "      <th>330254</th>\n",
       "      <td>2834885</td>\n",
       "      <td>2022-07-31 20:30:15</td>\n",
       "      <td>P37</td>\n",
       "      <td>0.0</td>\n",
       "      <td>15.30000</td>\n",
       "      <td>NaN</td>\n",
       "      <td>1.26696</td>\n",
       "      <td>34.42</td>\n",
       "      <td>Clear</td>\n",
       "      <td>NaN</td>\n",
       "      <td>...</td>\n",
       "      <td>38</td>\n",
       "      <td>3</td>\n",
       "      <td>8</td>\n",
       "      <td>6</td>\n",
       "      <td>4</td>\n",
       "      <td>6</td>\n",
       "      <td>0</td>\n",
       "      <td>1</td>\n",
       "      <td>0</td>\n",
       "      <td>1</td>\n",
       "    </tr>\n",
       "  </tbody>\n",
       "</table>\n",
       "<p>330255 rows × 21 columns</p>\n",
       "</div>"
      ],
      "text/plain": [
       "        Unnamed: 0                 Time P_ID  Speed_MPH       ATP    BPM  \\\n",
       "0           154496  2022-05-16 08:01:40  P15        0.0  31.80000  105.0   \n",
       "1           154497  2022-05-16 08:01:41  P15        0.0  31.80000  105.0   \n",
       "2           154498  2022-05-16 08:01:42  P15        0.0  31.80000  105.0   \n",
       "3           154499  2022-05-16 08:01:43  P15        0.0  31.80000  105.0   \n",
       "4           154500  2022-05-16 08:01:44  P15        0.0  31.80000  105.0   \n",
       "...            ...                  ...  ...        ...       ...    ...   \n",
       "330250     2834894  2022-07-31 20:30:11  P37        0.0  15.30000   98.0   \n",
       "330251     2834889  2022-07-31 20:30:12  P37        0.0  15.03333   98.0   \n",
       "330252     2834890  2022-07-31 20:30:13  P37        0.0  15.00000   98.0   \n",
       "330253     2834891  2022-07-31 20:30:14  P37        0.0  15.30000    NaN   \n",
       "330254     2834885  2022-07-31 20:30:15  P37        0.0  15.30000    NaN   \n",
       "\n",
       "             JF     FF Src_Weather_Info      NR_HR  ...  Trait_Anxiety  \\\n",
       "0       0.64059  34.05            Clear  22.532948  ...             38   \n",
       "1       0.64059  34.05            Clear  22.532948  ...             38   \n",
       "2       0.64059  34.05            Clear  22.532948  ...             38   \n",
       "3       0.64059  34.05            Clear  22.532948  ...             38   \n",
       "4       0.64059  34.05            Clear  22.532948  ...             38   \n",
       "...         ...    ...              ...        ...  ...            ...   \n",
       "330250  1.26696  34.42            Clear  30.373140  ...             38   \n",
       "330251  1.26696  34.42            Clear  30.373140  ...             38   \n",
       "330252  1.26696  34.42            Clear  30.373140  ...             38   \n",
       "330253  1.26696  34.42            Clear        NaN  ...             38   \n",
       "330254  1.26696  34.42            Clear        NaN  ...             38   \n",
       "\n",
       "        Extraversion  Agreeableness  Conscientiousness  Neuroticism  Openness  \\\n",
       "0                 10              8                  6            7         6   \n",
       "1                 10              8                  6            7         6   \n",
       "2                 10              8                  6            7         6   \n",
       "3                 10              8                  6            7         6   \n",
       "4                 10              8                  6            7         6   \n",
       "...              ...            ...                ...          ...       ...   \n",
       "330250             3              8                  6            4         6   \n",
       "330251             3              8                  6            4         6   \n",
       "330252             3              8                  6            4         6   \n",
       "330253             3              8                  6            4         6   \n",
       "330254             3              8                  6            4         6   \n",
       "\n",
       "        Weekday  Weekend  Gender_Female  Gender_Male  \n",
       "0             1        0              1            0  \n",
       "1             1        0              1            0  \n",
       "2             1        0              1            0  \n",
       "3             1        0              1            0  \n",
       "4             1        0              1            0  \n",
       "...         ...      ...            ...          ...  \n",
       "330250        0        1              0            1  \n",
       "330251        0        1              0            1  \n",
       "330252        0        1              0            1  \n",
       "330253        0        1              0            1  \n",
       "330254        0        1              0            1  \n",
       "\n",
       "[330255 rows x 21 columns]"
      ]
     },
     "execution_count": 3,
     "metadata": {},
     "output_type": "execute_result"
    }
   ],
   "source": [
    "df"
   ]
  },
  {
   "cell_type": "code",
   "execution_count": 4,
   "metadata": {},
   "outputs": [],
   "source": [
    "df.drop(['Unnamed: 0','P_ID','Time','Age','NR_HR','FF'],axis=1,inplace=True)"
   ]
  },
  {
   "cell_type": "code",
   "execution_count": 5,
   "metadata": {},
   "outputs": [],
   "source": [
    "df_2=df.copy(deep=True)"
   ]
  },
  {
   "cell_type": "code",
   "execution_count": 6,
   "metadata": {},
   "outputs": [
    {
     "name": "stderr",
     "output_type": "stream",
     "text": [
      "/var/folders/41/rlmz0mh15dx9_qw9xxbv4mq00000gn/T/ipykernel_789/3278247437.py:2: DeprecationWarning: `np.bool` is a deprecated alias for the builtin `bool`. To silence this warning, use `bool` by itself. Doing this will not modify any behavior and is safe. If you specifically wanted the numpy scalar type, use `np.bool_` here.\n",
      "Deprecated in NumPy 1.20; for more details and guidance: https://numpy.org/devdocs/release/1.20.0-notes.html#deprecations\n",
      "  half_matrix = corr_matrix.where(np.triu(np.ones(corr_matrix.shape), k=1).astype(np.bool))\n"
     ]
    }
   ],
   "source": [
    "corr_matrix=df_2.corr().abs()\n",
    "half_matrix = corr_matrix.where(np.triu(np.ones(corr_matrix.shape), k=1).astype(np.bool))\n",
    "dropped_columns = [column for column in half_matrix.columns if any(half_matrix[column] > 0.8)]\n",
    "df_2.drop(dropped_columns, axis=1, inplace=True)"
   ]
  },
  {
   "cell_type": "code",
   "execution_count": 7,
   "metadata": {},
   "outputs": [
    {
     "data": {
      "text/html": [
       "<div>\n",
       "<style scoped>\n",
       "    .dataframe tbody tr th:only-of-type {\n",
       "        vertical-align: middle;\n",
       "    }\n",
       "\n",
       "    .dataframe tbody tr th {\n",
       "        vertical-align: top;\n",
       "    }\n",
       "\n",
       "    .dataframe thead th {\n",
       "        text-align: right;\n",
       "    }\n",
       "</style>\n",
       "<table border=\"1\" class=\"dataframe\">\n",
       "  <thead>\n",
       "    <tr style=\"text-align: right;\">\n",
       "      <th></th>\n",
       "      <th>Speed_MPH</th>\n",
       "      <th>ATP</th>\n",
       "      <th>BPM</th>\n",
       "      <th>JF</th>\n",
       "      <th>Src_Weather_Info</th>\n",
       "      <th>Trait_Anxiety</th>\n",
       "      <th>Extraversion</th>\n",
       "      <th>Agreeableness</th>\n",
       "      <th>Conscientiousness</th>\n",
       "      <th>Neuroticism</th>\n",
       "      <th>Openness</th>\n",
       "      <th>Weekday</th>\n",
       "      <th>Gender_Female</th>\n",
       "    </tr>\n",
       "  </thead>\n",
       "  <tbody>\n",
       "    <tr>\n",
       "      <th>0</th>\n",
       "      <td>0.0</td>\n",
       "      <td>31.80000</td>\n",
       "      <td>105.0</td>\n",
       "      <td>0.64059</td>\n",
       "      <td>Clear</td>\n",
       "      <td>38</td>\n",
       "      <td>10</td>\n",
       "      <td>8</td>\n",
       "      <td>6</td>\n",
       "      <td>7</td>\n",
       "      <td>6</td>\n",
       "      <td>1</td>\n",
       "      <td>1</td>\n",
       "    </tr>\n",
       "    <tr>\n",
       "      <th>1</th>\n",
       "      <td>0.0</td>\n",
       "      <td>31.80000</td>\n",
       "      <td>105.0</td>\n",
       "      <td>0.64059</td>\n",
       "      <td>Clear</td>\n",
       "      <td>38</td>\n",
       "      <td>10</td>\n",
       "      <td>8</td>\n",
       "      <td>6</td>\n",
       "      <td>7</td>\n",
       "      <td>6</td>\n",
       "      <td>1</td>\n",
       "      <td>1</td>\n",
       "    </tr>\n",
       "    <tr>\n",
       "      <th>2</th>\n",
       "      <td>0.0</td>\n",
       "      <td>31.80000</td>\n",
       "      <td>105.0</td>\n",
       "      <td>0.64059</td>\n",
       "      <td>Clear</td>\n",
       "      <td>38</td>\n",
       "      <td>10</td>\n",
       "      <td>8</td>\n",
       "      <td>6</td>\n",
       "      <td>7</td>\n",
       "      <td>6</td>\n",
       "      <td>1</td>\n",
       "      <td>1</td>\n",
       "    </tr>\n",
       "    <tr>\n",
       "      <th>3</th>\n",
       "      <td>0.0</td>\n",
       "      <td>31.80000</td>\n",
       "      <td>105.0</td>\n",
       "      <td>0.64059</td>\n",
       "      <td>Clear</td>\n",
       "      <td>38</td>\n",
       "      <td>10</td>\n",
       "      <td>8</td>\n",
       "      <td>6</td>\n",
       "      <td>7</td>\n",
       "      <td>6</td>\n",
       "      <td>1</td>\n",
       "      <td>1</td>\n",
       "    </tr>\n",
       "    <tr>\n",
       "      <th>4</th>\n",
       "      <td>0.0</td>\n",
       "      <td>31.80000</td>\n",
       "      <td>105.0</td>\n",
       "      <td>0.64059</td>\n",
       "      <td>Clear</td>\n",
       "      <td>38</td>\n",
       "      <td>10</td>\n",
       "      <td>8</td>\n",
       "      <td>6</td>\n",
       "      <td>7</td>\n",
       "      <td>6</td>\n",
       "      <td>1</td>\n",
       "      <td>1</td>\n",
       "    </tr>\n",
       "    <tr>\n",
       "      <th>...</th>\n",
       "      <td>...</td>\n",
       "      <td>...</td>\n",
       "      <td>...</td>\n",
       "      <td>...</td>\n",
       "      <td>...</td>\n",
       "      <td>...</td>\n",
       "      <td>...</td>\n",
       "      <td>...</td>\n",
       "      <td>...</td>\n",
       "      <td>...</td>\n",
       "      <td>...</td>\n",
       "      <td>...</td>\n",
       "      <td>...</td>\n",
       "    </tr>\n",
       "    <tr>\n",
       "      <th>330250</th>\n",
       "      <td>0.0</td>\n",
       "      <td>15.30000</td>\n",
       "      <td>98.0</td>\n",
       "      <td>1.26696</td>\n",
       "      <td>Clear</td>\n",
       "      <td>38</td>\n",
       "      <td>3</td>\n",
       "      <td>8</td>\n",
       "      <td>6</td>\n",
       "      <td>4</td>\n",
       "      <td>6</td>\n",
       "      <td>0</td>\n",
       "      <td>0</td>\n",
       "    </tr>\n",
       "    <tr>\n",
       "      <th>330251</th>\n",
       "      <td>0.0</td>\n",
       "      <td>15.03333</td>\n",
       "      <td>98.0</td>\n",
       "      <td>1.26696</td>\n",
       "      <td>Clear</td>\n",
       "      <td>38</td>\n",
       "      <td>3</td>\n",
       "      <td>8</td>\n",
       "      <td>6</td>\n",
       "      <td>4</td>\n",
       "      <td>6</td>\n",
       "      <td>0</td>\n",
       "      <td>0</td>\n",
       "    </tr>\n",
       "    <tr>\n",
       "      <th>330252</th>\n",
       "      <td>0.0</td>\n",
       "      <td>15.00000</td>\n",
       "      <td>98.0</td>\n",
       "      <td>1.26696</td>\n",
       "      <td>Clear</td>\n",
       "      <td>38</td>\n",
       "      <td>3</td>\n",
       "      <td>8</td>\n",
       "      <td>6</td>\n",
       "      <td>4</td>\n",
       "      <td>6</td>\n",
       "      <td>0</td>\n",
       "      <td>0</td>\n",
       "    </tr>\n",
       "    <tr>\n",
       "      <th>330253</th>\n",
       "      <td>0.0</td>\n",
       "      <td>15.30000</td>\n",
       "      <td>NaN</td>\n",
       "      <td>1.26696</td>\n",
       "      <td>Clear</td>\n",
       "      <td>38</td>\n",
       "      <td>3</td>\n",
       "      <td>8</td>\n",
       "      <td>6</td>\n",
       "      <td>4</td>\n",
       "      <td>6</td>\n",
       "      <td>0</td>\n",
       "      <td>0</td>\n",
       "    </tr>\n",
       "    <tr>\n",
       "      <th>330254</th>\n",
       "      <td>0.0</td>\n",
       "      <td>15.30000</td>\n",
       "      <td>NaN</td>\n",
       "      <td>1.26696</td>\n",
       "      <td>Clear</td>\n",
       "      <td>38</td>\n",
       "      <td>3</td>\n",
       "      <td>8</td>\n",
       "      <td>6</td>\n",
       "      <td>4</td>\n",
       "      <td>6</td>\n",
       "      <td>0</td>\n",
       "      <td>0</td>\n",
       "    </tr>\n",
       "  </tbody>\n",
       "</table>\n",
       "<p>330255 rows × 13 columns</p>\n",
       "</div>"
      ],
      "text/plain": [
       "        Speed_MPH       ATP    BPM       JF Src_Weather_Info  Trait_Anxiety  \\\n",
       "0             0.0  31.80000  105.0  0.64059            Clear             38   \n",
       "1             0.0  31.80000  105.0  0.64059            Clear             38   \n",
       "2             0.0  31.80000  105.0  0.64059            Clear             38   \n",
       "3             0.0  31.80000  105.0  0.64059            Clear             38   \n",
       "4             0.0  31.80000  105.0  0.64059            Clear             38   \n",
       "...           ...       ...    ...      ...              ...            ...   \n",
       "330250        0.0  15.30000   98.0  1.26696            Clear             38   \n",
       "330251        0.0  15.03333   98.0  1.26696            Clear             38   \n",
       "330252        0.0  15.00000   98.0  1.26696            Clear             38   \n",
       "330253        0.0  15.30000    NaN  1.26696            Clear             38   \n",
       "330254        0.0  15.30000    NaN  1.26696            Clear             38   \n",
       "\n",
       "        Extraversion  Agreeableness  Conscientiousness  Neuroticism  Openness  \\\n",
       "0                 10              8                  6            7         6   \n",
       "1                 10              8                  6            7         6   \n",
       "2                 10              8                  6            7         6   \n",
       "3                 10              8                  6            7         6   \n",
       "4                 10              8                  6            7         6   \n",
       "...              ...            ...                ...          ...       ...   \n",
       "330250             3              8                  6            4         6   \n",
       "330251             3              8                  6            4         6   \n",
       "330252             3              8                  6            4         6   \n",
       "330253             3              8                  6            4         6   \n",
       "330254             3              8                  6            4         6   \n",
       "\n",
       "        Weekday  Gender_Female  \n",
       "0             1              1  \n",
       "1             1              1  \n",
       "2             1              1  \n",
       "3             1              1  \n",
       "4             1              1  \n",
       "...         ...            ...  \n",
       "330250        0              0  \n",
       "330251        0              0  \n",
       "330252        0              0  \n",
       "330253        0              0  \n",
       "330254        0              0  \n",
       "\n",
       "[330255 rows x 13 columns]"
      ]
     },
     "execution_count": 7,
     "metadata": {},
     "output_type": "execute_result"
    }
   ],
   "source": [
    "df_2"
   ]
  },
  {
   "cell_type": "code",
   "execution_count": 8,
   "metadata": {},
   "outputs": [
    {
     "data": {
      "text/plain": [
       "array(['Clear', 'Clouds', 'Haze', 'Drizzle', 'Thunderstorm', 'Mist',\n",
       "       'Rain'], dtype=object)"
      ]
     },
     "execution_count": 8,
     "metadata": {},
     "output_type": "execute_result"
    }
   ],
   "source": [
    "df_2['Src_Weather_Info'].unique()"
   ]
  },
  {
   "cell_type": "code",
   "execution_count": 9,
   "metadata": {},
   "outputs": [],
   "source": [
    "df_2['Src_Weather_Info'].replace(['Clear','Clouds','Drizzle','Haze','Mist','Rain','Thunderstorm'],\n",
    "                        [0,1,2,3,3,4,5], inplace=True)"
   ]
  },
  {
   "cell_type": "code",
   "execution_count": 10,
   "metadata": {},
   "outputs": [],
   "source": [
    "df_2.rename(columns={\"BPM\":\"HR\"}, inplace=True)"
   ]
  },
  {
   "cell_type": "code",
   "execution_count": 11,
   "metadata": {},
   "outputs": [],
   "source": [
    "df_2.dropna(axis=0,inplace=True)"
   ]
  },
  {
   "cell_type": "markdown",
   "metadata": {},
   "source": [
    "## Predict BPM difference"
   ]
  },
  {
   "cell_type": "code",
   "execution_count": 12,
   "metadata": {},
   "outputs": [],
   "source": [
    "temp=df_2['HR']\n",
    "df_3=df_2.drop(['HR'], axis=1)\n",
    "Y=temp.values\n",
    "X=df_2.values"
   ]
  },
  {
   "cell_type": "code",
   "execution_count": 13,
   "metadata": {},
   "outputs": [
    {
     "data": {
      "text/html": [
       "<div>\n",
       "<style scoped>\n",
       "    .dataframe tbody tr th:only-of-type {\n",
       "        vertical-align: middle;\n",
       "    }\n",
       "\n",
       "    .dataframe tbody tr th {\n",
       "        vertical-align: top;\n",
       "    }\n",
       "\n",
       "    .dataframe thead th {\n",
       "        text-align: right;\n",
       "    }\n",
       "</style>\n",
       "<table border=\"1\" class=\"dataframe\">\n",
       "  <thead>\n",
       "    <tr style=\"text-align: right;\">\n",
       "      <th></th>\n",
       "      <th>Speed_MPH</th>\n",
       "      <th>ATP</th>\n",
       "      <th>JF</th>\n",
       "      <th>Src_Weather_Info</th>\n",
       "      <th>Trait_Anxiety</th>\n",
       "      <th>Extraversion</th>\n",
       "      <th>Agreeableness</th>\n",
       "      <th>Conscientiousness</th>\n",
       "      <th>Neuroticism</th>\n",
       "      <th>Openness</th>\n",
       "      <th>Weekday</th>\n",
       "      <th>Gender_Female</th>\n",
       "    </tr>\n",
       "  </thead>\n",
       "  <tbody>\n",
       "    <tr>\n",
       "      <th>0</th>\n",
       "      <td>0.0</td>\n",
       "      <td>31.80000</td>\n",
       "      <td>0.64059</td>\n",
       "      <td>0</td>\n",
       "      <td>38</td>\n",
       "      <td>10</td>\n",
       "      <td>8</td>\n",
       "      <td>6</td>\n",
       "      <td>7</td>\n",
       "      <td>6</td>\n",
       "      <td>1</td>\n",
       "      <td>1</td>\n",
       "    </tr>\n",
       "    <tr>\n",
       "      <th>1</th>\n",
       "      <td>0.0</td>\n",
       "      <td>31.80000</td>\n",
       "      <td>0.64059</td>\n",
       "      <td>0</td>\n",
       "      <td>38</td>\n",
       "      <td>10</td>\n",
       "      <td>8</td>\n",
       "      <td>6</td>\n",
       "      <td>7</td>\n",
       "      <td>6</td>\n",
       "      <td>1</td>\n",
       "      <td>1</td>\n",
       "    </tr>\n",
       "    <tr>\n",
       "      <th>2</th>\n",
       "      <td>0.0</td>\n",
       "      <td>31.80000</td>\n",
       "      <td>0.64059</td>\n",
       "      <td>0</td>\n",
       "      <td>38</td>\n",
       "      <td>10</td>\n",
       "      <td>8</td>\n",
       "      <td>6</td>\n",
       "      <td>7</td>\n",
       "      <td>6</td>\n",
       "      <td>1</td>\n",
       "      <td>1</td>\n",
       "    </tr>\n",
       "    <tr>\n",
       "      <th>3</th>\n",
       "      <td>0.0</td>\n",
       "      <td>31.80000</td>\n",
       "      <td>0.64059</td>\n",
       "      <td>0</td>\n",
       "      <td>38</td>\n",
       "      <td>10</td>\n",
       "      <td>8</td>\n",
       "      <td>6</td>\n",
       "      <td>7</td>\n",
       "      <td>6</td>\n",
       "      <td>1</td>\n",
       "      <td>1</td>\n",
       "    </tr>\n",
       "    <tr>\n",
       "      <th>4</th>\n",
       "      <td>0.0</td>\n",
       "      <td>31.80000</td>\n",
       "      <td>0.64059</td>\n",
       "      <td>0</td>\n",
       "      <td>38</td>\n",
       "      <td>10</td>\n",
       "      <td>8</td>\n",
       "      <td>6</td>\n",
       "      <td>7</td>\n",
       "      <td>6</td>\n",
       "      <td>1</td>\n",
       "      <td>1</td>\n",
       "    </tr>\n",
       "    <tr>\n",
       "      <th>...</th>\n",
       "      <td>...</td>\n",
       "      <td>...</td>\n",
       "      <td>...</td>\n",
       "      <td>...</td>\n",
       "      <td>...</td>\n",
       "      <td>...</td>\n",
       "      <td>...</td>\n",
       "      <td>...</td>\n",
       "      <td>...</td>\n",
       "      <td>...</td>\n",
       "      <td>...</td>\n",
       "      <td>...</td>\n",
       "    </tr>\n",
       "    <tr>\n",
       "      <th>330248</th>\n",
       "      <td>0.0</td>\n",
       "      <td>16.45000</td>\n",
       "      <td>1.26696</td>\n",
       "      <td>0</td>\n",
       "      <td>38</td>\n",
       "      <td>3</td>\n",
       "      <td>8</td>\n",
       "      <td>6</td>\n",
       "      <td>4</td>\n",
       "      <td>6</td>\n",
       "      <td>0</td>\n",
       "      <td>0</td>\n",
       "    </tr>\n",
       "    <tr>\n",
       "      <th>330249</th>\n",
       "      <td>0.0</td>\n",
       "      <td>15.80000</td>\n",
       "      <td>1.26696</td>\n",
       "      <td>0</td>\n",
       "      <td>38</td>\n",
       "      <td>3</td>\n",
       "      <td>8</td>\n",
       "      <td>6</td>\n",
       "      <td>4</td>\n",
       "      <td>6</td>\n",
       "      <td>0</td>\n",
       "      <td>0</td>\n",
       "    </tr>\n",
       "    <tr>\n",
       "      <th>330250</th>\n",
       "      <td>0.0</td>\n",
       "      <td>15.30000</td>\n",
       "      <td>1.26696</td>\n",
       "      <td>0</td>\n",
       "      <td>38</td>\n",
       "      <td>3</td>\n",
       "      <td>8</td>\n",
       "      <td>6</td>\n",
       "      <td>4</td>\n",
       "      <td>6</td>\n",
       "      <td>0</td>\n",
       "      <td>0</td>\n",
       "    </tr>\n",
       "    <tr>\n",
       "      <th>330251</th>\n",
       "      <td>0.0</td>\n",
       "      <td>15.03333</td>\n",
       "      <td>1.26696</td>\n",
       "      <td>0</td>\n",
       "      <td>38</td>\n",
       "      <td>3</td>\n",
       "      <td>8</td>\n",
       "      <td>6</td>\n",
       "      <td>4</td>\n",
       "      <td>6</td>\n",
       "      <td>0</td>\n",
       "      <td>0</td>\n",
       "    </tr>\n",
       "    <tr>\n",
       "      <th>330252</th>\n",
       "      <td>0.0</td>\n",
       "      <td>15.00000</td>\n",
       "      <td>1.26696</td>\n",
       "      <td>0</td>\n",
       "      <td>38</td>\n",
       "      <td>3</td>\n",
       "      <td>8</td>\n",
       "      <td>6</td>\n",
       "      <td>4</td>\n",
       "      <td>6</td>\n",
       "      <td>0</td>\n",
       "      <td>0</td>\n",
       "    </tr>\n",
       "  </tbody>\n",
       "</table>\n",
       "<p>330253 rows × 12 columns</p>\n",
       "</div>"
      ],
      "text/plain": [
       "        Speed_MPH       ATP       JF  Src_Weather_Info  Trait_Anxiety  \\\n",
       "0             0.0  31.80000  0.64059                 0             38   \n",
       "1             0.0  31.80000  0.64059                 0             38   \n",
       "2             0.0  31.80000  0.64059                 0             38   \n",
       "3             0.0  31.80000  0.64059                 0             38   \n",
       "4             0.0  31.80000  0.64059                 0             38   \n",
       "...           ...       ...      ...               ...            ...   \n",
       "330248        0.0  16.45000  1.26696                 0             38   \n",
       "330249        0.0  15.80000  1.26696                 0             38   \n",
       "330250        0.0  15.30000  1.26696                 0             38   \n",
       "330251        0.0  15.03333  1.26696                 0             38   \n",
       "330252        0.0  15.00000  1.26696                 0             38   \n",
       "\n",
       "        Extraversion  Agreeableness  Conscientiousness  Neuroticism  Openness  \\\n",
       "0                 10              8                  6            7         6   \n",
       "1                 10              8                  6            7         6   \n",
       "2                 10              8                  6            7         6   \n",
       "3                 10              8                  6            7         6   \n",
       "4                 10              8                  6            7         6   \n",
       "...              ...            ...                ...          ...       ...   \n",
       "330248             3              8                  6            4         6   \n",
       "330249             3              8                  6            4         6   \n",
       "330250             3              8                  6            4         6   \n",
       "330251             3              8                  6            4         6   \n",
       "330252             3              8                  6            4         6   \n",
       "\n",
       "        Weekday  Gender_Female  \n",
       "0             1              1  \n",
       "1             1              1  \n",
       "2             1              1  \n",
       "3             1              1  \n",
       "4             1              1  \n",
       "...         ...            ...  \n",
       "330248        0              0  \n",
       "330249        0              0  \n",
       "330250        0              0  \n",
       "330251        0              0  \n",
       "330252        0              0  \n",
       "\n",
       "[330253 rows x 12 columns]"
      ]
     },
     "execution_count": 13,
     "metadata": {},
     "output_type": "execute_result"
    }
   ],
   "source": [
    "df_3"
   ]
  },
  {
   "cell_type": "code",
   "execution_count": 14,
   "metadata": {},
   "outputs": [],
   "source": [
    "from sklearn import ensemble"
   ]
  },
  {
   "cell_type": "code",
   "execution_count": 15,
   "metadata": {},
   "outputs": [],
   "source": [
    "from sklearn.ensemble import GradientBoostingRegressor"
   ]
  },
  {
   "cell_type": "code",
   "execution_count": 16,
   "metadata": {},
   "outputs": [],
   "source": [
    "from sklearn.model_selection import KFold"
   ]
  },
  {
   "cell_type": "code",
   "execution_count": 17,
   "metadata": {},
   "outputs": [],
   "source": [
    "kf = KFold(n_splits=5,random_state=42,shuffle=True)"
   ]
  },
  {
   "cell_type": "code",
   "execution_count": 18,
   "metadata": {},
   "outputs": [],
   "source": [
    "for train_index,val_index in kf.split(X):\n",
    "    X_train,X_test = df_3.iloc[train_index],df_3.iloc[val_index],\n",
    "    y_train,y_test = temp.iloc[train_index],temp.iloc[val_index]"
   ]
  },
  {
   "cell_type": "code",
   "execution_count": 19,
   "metadata": {},
   "outputs": [],
   "source": [
    "# gb = GradientBoostingRegressor(learning_rate=0.1)"
   ]
  },
  {
   "cell_type": "code",
   "execution_count": 20,
   "metadata": {},
   "outputs": [],
   "source": [
    "# gb.fit(X_train,y_train)"
   ]
  },
  {
   "cell_type": "code",
   "execution_count": 21,
   "metadata": {},
   "outputs": [],
   "source": [
    "# gb.score(X_test, y_test)"
   ]
  },
  {
   "cell_type": "code",
   "execution_count": 22,
   "metadata": {},
   "outputs": [],
   "source": [
    "# print(gb.feature_importances_)"
   ]
  },
  {
   "cell_type": "code",
   "execution_count": 23,
   "metadata": {},
   "outputs": [],
   "source": [
    "# X_train.keys()"
   ]
  },
  {
   "cell_type": "code",
   "execution_count": 24,
   "metadata": {},
   "outputs": [],
   "source": [
    "from matplotlib.pyplot import figure"
   ]
  },
  {
   "cell_type": "code",
   "execution_count": 25,
   "metadata": {},
   "outputs": [],
   "source": [
    "# feature_importance = gb.feature_importances_\n",
    "# # make importances relative to max importance\n",
    "# feature_importance = 100.0 * (feature_importance / feature_importance.max())\n",
    "# sorted_idx = np.argsort(feature_importance)\n",
    "# print(sorted_idx)\n",
    "# pos = np.arange(sorted_idx.shape[0]) + .5\n",
    "# f=plt.figure()\n",
    "# f.set_figwidth(10)\n",
    "# f.set_figheight(8)\n",
    "# plt.barh(pos, feature_importance[sorted_idx], align='center')\n",
    "# plt.yticks(pos, X_train.keys()[sorted_idx])\n",
    "# plt.xlabel('Relative Importance')\n",
    "# plt.title('Variable Importance')\n",
    "# plt.show()"
   ]
  },
  {
   "cell_type": "code",
   "execution_count": 26,
   "metadata": {},
   "outputs": [],
   "source": [
    "from sklearn.ensemble import RandomForestRegressor"
   ]
  },
  {
   "cell_type": "code",
   "execution_count": 27,
   "metadata": {},
   "outputs": [],
   "source": [
    "# rf=RandomForestRegressor()"
   ]
  },
  {
   "cell_type": "code",
   "execution_count": 28,
   "metadata": {},
   "outputs": [],
   "source": [
    "# rf.fit(X_train,y_train)"
   ]
  },
  {
   "cell_type": "code",
   "execution_count": 29,
   "metadata": {},
   "outputs": [],
   "source": [
    "# rf.score(X_test, y_test)"
   ]
  },
  {
   "cell_type": "code",
   "execution_count": 30,
   "metadata": {},
   "outputs": [],
   "source": [
    "# print(rf.feature_importances_)"
   ]
  },
  {
   "cell_type": "code",
   "execution_count": 31,
   "metadata": {},
   "outputs": [],
   "source": [
    "# feature_importance = rf.feature_importances_\n",
    "# # make importances relative to max importance\n",
    "# feature_importance = 100.0 * (feature_importance / feature_importance.max())\n",
    "# sorted_idx = np.argsort(feature_importance)\n",
    "# print(sorted_idx)\n",
    "# pos = np.arange(sorted_idx.shape[0]) + .5\n",
    "# f=plt.figure()\n",
    "# f.set_figwidth(10)\n",
    "# f.set_figheight(8)\n",
    "# plt.barh(pos, feature_importance[sorted_idx], align='center')\n",
    "# plt.yticks(pos, X_train.keys()[sorted_idx])\n",
    "# plt.xlabel('Relative Importance')\n",
    "# plt.title('Variable Importance')\n",
    "# plt.show()"
   ]
  },
  {
   "cell_type": "code",
   "execution_count": 32,
   "metadata": {},
   "outputs": [],
   "source": [
    "# rf_perm_featimp=permutation_importance(rf, X_train, y_train, n_repeats=10, random_state=0)"
   ]
  },
  {
   "cell_type": "code",
   "execution_count": 33,
   "metadata": {},
   "outputs": [],
   "source": [
    "# forest_importances = pd.DataFrame(data={'Importance': rf_perm_featimp.importances_mean, 'Feature':df_3.columns})"
   ]
  },
  {
   "cell_type": "code",
   "execution_count": 34,
   "metadata": {},
   "outputs": [],
   "source": [
    "# df_sorted=forest_importances.sort_values('Importance')"
   ]
  },
  {
   "cell_type": "code",
   "execution_count": 35,
   "metadata": {},
   "outputs": [],
   "source": [
    "# df_sorted"
   ]
  },
  {
   "cell_type": "code",
   "execution_count": 36,
   "metadata": {},
   "outputs": [],
   "source": [
    "# ax = df_sorted.plot.barh(x='Feature',y='Importance', rot=0, figsize=(15,10))"
   ]
  },
  {
   "cell_type": "code",
   "execution_count": 37,
   "metadata": {},
   "outputs": [],
   "source": [
    "from sklearn import linear_model"
   ]
  },
  {
   "cell_type": "code",
   "execution_count": 38,
   "metadata": {},
   "outputs": [],
   "source": [
    "# clf=linear_model.Lasso(alpha=0.05)\n",
    "# clf.fit(X_train, y_train)"
   ]
  },
  {
   "cell_type": "code",
   "execution_count": 39,
   "metadata": {},
   "outputs": [],
   "source": [
    "# clf.score(X_test, y_test)"
   ]
  },
  {
   "cell_type": "code",
   "execution_count": 40,
   "metadata": {},
   "outputs": [],
   "source": [
    "from sklearn.ensemble import AdaBoostRegressor"
   ]
  },
  {
   "cell_type": "code",
   "execution_count": 41,
   "metadata": {},
   "outputs": [],
   "source": [
    "# ab=AdaBoostRegressor(loss='exponential', n_estimators=25)"
   ]
  },
  {
   "cell_type": "code",
   "execution_count": 42,
   "metadata": {},
   "outputs": [],
   "source": [
    "# ab.fit(X_train,y_train)"
   ]
  },
  {
   "cell_type": "code",
   "execution_count": 43,
   "metadata": {},
   "outputs": [],
   "source": [
    "# ab.score(X_test, y_test)"
   ]
  },
  {
   "cell_type": "code",
   "execution_count": 44,
   "metadata": {},
   "outputs": [],
   "source": [
    "# feature_importance = ab.feature_importances_\n",
    "# # make importances relative to max importance\n",
    "# feature_importance = 100.0 * (feature_importance / feature_importance.max())\n",
    "# sorted_idx = np.argsort(feature_importance)\n",
    "# print(sorted_idx)\n",
    "# pos = np.arange(sorted_idx.shape[0]) + .5\n",
    "# f=plt.figure()\n",
    "# f.set_figwidth(10)\n",
    "# f.set_figheight(8)\n",
    "# plt.barh(pos, feature_importance[sorted_idx], align='center')\n",
    "# plt.yticks(pos, X_train.keys()[sorted_idx])\n",
    "# plt.xlabel('Relative Importance')\n",
    "# plt.title('Variable Importance')\n",
    "# plt.show()"
   ]
  },
  {
   "cell_type": "code",
   "execution_count": 45,
   "metadata": {},
   "outputs": [],
   "source": [
    "from sklearn.tree import DecisionTreeRegressor"
   ]
  },
  {
   "cell_type": "code",
   "execution_count": 46,
   "metadata": {},
   "outputs": [],
   "source": [
    "# dt=DecisionTreeRegressor()"
   ]
  },
  {
   "cell_type": "code",
   "execution_count": 47,
   "metadata": {},
   "outputs": [],
   "source": [
    "# dt.fit(X_train,y_train)"
   ]
  },
  {
   "cell_type": "code",
   "execution_count": 48,
   "metadata": {},
   "outputs": [],
   "source": [
    "# dt.score(X_test, y_test)"
   ]
  },
  {
   "cell_type": "code",
   "execution_count": 49,
   "metadata": {},
   "outputs": [],
   "source": [
    "# feature_importance = dt.feature_importances_\n",
    "# # make importances relative to max importance\n",
    "# feature_importance = 100.0 * (feature_importance / feature_importance.max())\n",
    "# sorted_idx = np.argsort(feature_importance)\n",
    "# print(sorted_idx)\n",
    "# pos = np.arange(sorted_idx.shape[0]) + .5\n",
    "# f=plt.figure()\n",
    "# f.set_figwidth(10)\n",
    "# f.set_figheight(8)\n",
    "# plt.barh(pos, feature_importance[sorted_idx], align='center')\n",
    "# plt.yticks(pos, X_train.keys()[sorted_idx])\n",
    "# plt.xlabel('Relative Importance')\n",
    "# plt.title('Variable Importance')\n",
    "# plt.show()"
   ]
  },
  {
   "cell_type": "code",
   "execution_count": 50,
   "metadata": {},
   "outputs": [],
   "source": [
    "from sklearn.linear_model import ElasticNet"
   ]
  },
  {
   "cell_type": "code",
   "execution_count": 51,
   "metadata": {},
   "outputs": [],
   "source": [
    "# en=ElasticNet(alpha=0.1)"
   ]
  },
  {
   "cell_type": "code",
   "execution_count": 52,
   "metadata": {},
   "outputs": [],
   "source": [
    "# en.fit(X_train, y_train)"
   ]
  },
  {
   "cell_type": "code",
   "execution_count": 53,
   "metadata": {},
   "outputs": [],
   "source": [
    "# en.score(X_test,y_test)"
   ]
  },
  {
   "cell_type": "code",
   "execution_count": 54,
   "metadata": {},
   "outputs": [],
   "source": [
    "# feature_importance = pd.Series(index = X_train.columns, data = np.abs(en.coef_))\n",
    "\n",
    "# n_selected_features = (feature_importance>0).sum()\n",
    "# print('{0:d} features, reduction of {1:2.2f}%'.format(\n",
    "#     n_selected_features,(1-n_selected_features/len(feature_importance))*100))\n",
    "\n",
    "# feature_importance.sort_values().tail(30).plot(kind = 'bar', figsize = (18,6))"
   ]
  },
  {
   "cell_type": "code",
   "execution_count": 55,
   "metadata": {},
   "outputs": [],
   "source": [
    "from sklearn.ensemble import VotingRegressor"
   ]
  },
  {
   "cell_type": "code",
   "execution_count": 56,
   "metadata": {},
   "outputs": [],
   "source": [
    "from sklearn.model_selection import train_test_split"
   ]
  },
  {
   "cell_type": "code",
   "execution_count": 57,
   "metadata": {},
   "outputs": [],
   "source": [
    "X_train_sub, X_test_sub, y_train_sub, y_test_sub = train_test_split(X_train, y_train, test_size=0.33, random_state=1)"
   ]
  },
  {
   "cell_type": "code",
   "execution_count": 58,
   "metadata": {},
   "outputs": [],
   "source": [
    "import xgboost as xgb"
   ]
  },
  {
   "cell_type": "code",
   "execution_count": 59,
   "metadata": {},
   "outputs": [],
   "source": [
    "# bst=xgb.train(X_train.values, y_train.values)"
   ]
  },
  {
   "cell_type": "code",
   "execution_count": 60,
   "metadata": {},
   "outputs": [],
   "source": [
    "# xgb.fit(X_train,y_train)"
   ]
  },
  {
   "cell_type": "code",
   "execution_count": 61,
   "metadata": {},
   "outputs": [],
   "source": [
    "# xgb.score(X_test, y_test)"
   ]
  },
  {
   "cell_type": "code",
   "execution_count": 62,
   "metadata": {},
   "outputs": [],
   "source": [
    "from sklearn.ensemble import HistGradientBoostingRegressor"
   ]
  },
  {
   "cell_type": "code",
   "execution_count": 63,
   "metadata": {},
   "outputs": [],
   "source": [
    "from sklearn.neighbors import KNeighborsRegressor"
   ]
  },
  {
   "cell_type": "code",
   "execution_count": 64,
   "metadata": {},
   "outputs": [],
   "source": [
    "def get_models():\n",
    "    models = list()\n",
    "    #models.append(('ht', HistGradientBoostingRegressor()))\n",
    "    models.append(('gb', GradientBoostingRegressor()))\n",
    "    models.append(('ab', AdaBoostRegressor()))\n",
    "    models.append(('rf', RandomForestRegressor()))\n",
    "    #models.append(('kg', KNeighborsRegressor()))\n",
    "    #models.append(('svm', svm.SVR()))\n",
    "    return models"
   ]
  },
  {
   "cell_type": "code",
   "execution_count": 65,
   "metadata": {},
   "outputs": [],
   "source": [
    "from sklearn.metrics import accuracy_score\n",
    "def evaluate(models, X_train, X_test, y_train, y_test):\n",
    "    scores = list()\n",
    "    for name, model in models:\n",
    "        model.fit(X_train, y_train)\n",
    "        score=model.score(X_test,y_test)\n",
    "        scores.append(score)\n",
    "    return scores"
   ]
  },
  {
   "cell_type": "code",
   "execution_count": 66,
   "metadata": {},
   "outputs": [],
   "source": [
    "models=get_models()"
   ]
  },
  {
   "cell_type": "code",
   "execution_count": 67,
   "metadata": {},
   "outputs": [],
   "source": [
    "scores=evaluate(models, X_train_sub, X_test_sub, y_train_sub, y_test_sub)"
   ]
  },
  {
   "cell_type": "code",
   "execution_count": 68,
   "metadata": {},
   "outputs": [],
   "source": [
    "ensemble=VotingRegressor(estimators=models, weights=scores)"
   ]
  },
  {
   "cell_type": "code",
   "execution_count": null,
   "metadata": {},
   "outputs": [],
   "source": [
    "ensemble.fit(X_train, y_train)"
   ]
  },
  {
   "cell_type": "code",
   "execution_count": null,
   "metadata": {},
   "outputs": [],
   "source": [
    "ensemble.score(X_test, y_test)"
   ]
  },
  {
   "cell_type": "code",
   "execution_count": null,
   "metadata": {},
   "outputs": [],
   "source": [
    "def feature_importance(ensemble, weights):\n",
    "    feature_importance = dict()\n",
    "    for est in ensemble.estimators_:\n",
    "        feature_importance[str(est)] = est.feature_importances_\n",
    "    \n",
    "    fe_scores = [0]*len(list(feature_importance.values())[0])\n",
    "    for idx, imp_score in enumerate(feature_importance.values()):\n",
    "        imp_score_with_weight = imp_score*weights[idx]\n",
    "        fe_scores = list(np.add(fe_scores, list(imp_score_with_weight)))\n",
    "    return fe_scores"
   ]
  },
  {
   "cell_type": "code",
   "execution_count": null,
   "metadata": {},
   "outputs": [],
   "source": [
    "final_df=pd.DataFrame()\n",
    "final_df['Feature']=X_train.columns\n",
    "final_df['Importance']=feature_importance(ensemble, scores)\n",
    "new_df=final_df.sort_values('Importance')"
   ]
  },
  {
   "cell_type": "code",
   "execution_count": null,
   "metadata": {},
   "outputs": [],
   "source": [
    "ax = new_df.plot.barh(x='Feature',y='Importance', rot=0, figsize=(15,10))\n",
    "plt.savefig('Feature_Importances.png')"
   ]
  },
  {
   "cell_type": "code",
   "execution_count": 74,
   "metadata": {},
   "outputs": [],
   "source": [
    "# result=permutation_importance(ensemble, X_train, y_train, n_repeats=10, random_state=0)"
   ]
  },
  {
   "cell_type": "code",
   "execution_count": 75,
   "metadata": {},
   "outputs": [],
   "source": [
    "# ensemble_importances = pd.DataFrame(data={'Importance': result.importances_mean, 'Feature':df_3.columns})\n",
    "# df_sorted=ensemble_importances.sort_values('Importance')\n",
    "# ax = df_sorted.plot.barh(x='Feature',y='Importance', rot=0, figsize=(15,10))"
   ]
  },
  {
   "cell_type": "code",
   "execution_count": 76,
   "metadata": {},
   "outputs": [],
   "source": [
    "# df_3=df_2.drop(['Speed_MPH'],axis=1)"
   ]
  },
  {
   "cell_type": "code",
   "execution_count": 77,
   "metadata": {},
   "outputs": [],
   "source": [
    "# df_3.corr()['NR_HR'].sort_values()"
   ]
  },
  {
   "cell_type": "code",
   "execution_count": 78,
   "metadata": {},
   "outputs": [],
   "source": [
    "# df_2"
   ]
  },
  {
   "cell_type": "markdown",
   "metadata": {},
   "source": [
    "As we can see, wind speed, pressure, and temperature are the best predictors of BPM according to the models. Wind speed and pressure are plausible, but temperature seems a little weird. "
   ]
  },
  {
   "cell_type": "markdown",
   "metadata": {},
   "source": [
    "No notable difference between when BPM is subtracted or divided, as suspected. "
   ]
  },
  {
   "cell_type": "markdown",
   "metadata": {},
   "source": [
    "# Normalizing the Data to check if anything changes"
   ]
  },
  {
   "cell_type": "code",
   "execution_count": 79,
   "metadata": {},
   "outputs": [],
   "source": [
    "normalized_df=(df_2-df_2.min())/(df_2.max()-df_2.min())"
   ]
  },
  {
   "cell_type": "code",
   "execution_count": 80,
   "metadata": {},
   "outputs": [
    {
     "ename": "KeyError",
     "evalue": "'NR_HR'",
     "output_type": "error",
     "traceback": [
      "\u001b[0;31m---------------------------------------------------------------------------\u001b[0m",
      "\u001b[0;31mKeyError\u001b[0m                                  Traceback (most recent call last)",
      "File \u001b[0;32m~/opt/anaconda3/lib/python3.9/site-packages/pandas/core/indexes/base.py:3621\u001b[0m, in \u001b[0;36mIndex.get_loc\u001b[0;34m(self, key, method, tolerance)\u001b[0m\n\u001b[1;32m   3620\u001b[0m \u001b[38;5;28;01mtry\u001b[39;00m:\n\u001b[0;32m-> 3621\u001b[0m     \u001b[38;5;28;01mreturn\u001b[39;00m \u001b[38;5;28;43mself\u001b[39;49m\u001b[38;5;241;43m.\u001b[39;49m\u001b[43m_engine\u001b[49m\u001b[38;5;241;43m.\u001b[39;49m\u001b[43mget_loc\u001b[49m\u001b[43m(\u001b[49m\u001b[43mcasted_key\u001b[49m\u001b[43m)\u001b[49m\n\u001b[1;32m   3622\u001b[0m \u001b[38;5;28;01mexcept\u001b[39;00m \u001b[38;5;167;01mKeyError\u001b[39;00m \u001b[38;5;28;01mas\u001b[39;00m err:\n",
      "File \u001b[0;32m~/opt/anaconda3/lib/python3.9/site-packages/pandas/_libs/index.pyx:136\u001b[0m, in \u001b[0;36mpandas._libs.index.IndexEngine.get_loc\u001b[0;34m()\u001b[0m\n",
      "File \u001b[0;32m~/opt/anaconda3/lib/python3.9/site-packages/pandas/_libs/index.pyx:163\u001b[0m, in \u001b[0;36mpandas._libs.index.IndexEngine.get_loc\u001b[0;34m()\u001b[0m\n",
      "File \u001b[0;32mpandas/_libs/hashtable_class_helper.pxi:5198\u001b[0m, in \u001b[0;36mpandas._libs.hashtable.PyObjectHashTable.get_item\u001b[0;34m()\u001b[0m\n",
      "File \u001b[0;32mpandas/_libs/hashtable_class_helper.pxi:5206\u001b[0m, in \u001b[0;36mpandas._libs.hashtable.PyObjectHashTable.get_item\u001b[0;34m()\u001b[0m\n",
      "\u001b[0;31mKeyError\u001b[0m: 'NR_HR'",
      "\nThe above exception was the direct cause of the following exception:\n",
      "\u001b[0;31mKeyError\u001b[0m                                  Traceback (most recent call last)",
      "Input \u001b[0;32mIn [80]\u001b[0m, in \u001b[0;36m<cell line: 1>\u001b[0;34m()\u001b[0m\n\u001b[0;32m----> 1\u001b[0m temp\u001b[38;5;241m=\u001b[39m\u001b[43mnormalized_df\u001b[49m\u001b[43m[\u001b[49m\u001b[38;5;124;43m'\u001b[39;49m\u001b[38;5;124;43mNR_HR\u001b[39;49m\u001b[38;5;124;43m'\u001b[39;49m\u001b[43m]\u001b[49m\n\u001b[1;32m      2\u001b[0m df_5\u001b[38;5;241m=\u001b[39mnormalized_df\u001b[38;5;241m.\u001b[39mdrop([\u001b[38;5;124m'\u001b[39m\u001b[38;5;124mNR_HR\u001b[39m\u001b[38;5;124m'\u001b[39m], axis\u001b[38;5;241m=\u001b[39m\u001b[38;5;241m1\u001b[39m)\n\u001b[1;32m      3\u001b[0m Y\u001b[38;5;241m=\u001b[39mtemp\u001b[38;5;241m.\u001b[39mvalues\n",
      "File \u001b[0;32m~/opt/anaconda3/lib/python3.9/site-packages/pandas/core/frame.py:3505\u001b[0m, in \u001b[0;36mDataFrame.__getitem__\u001b[0;34m(self, key)\u001b[0m\n\u001b[1;32m   3503\u001b[0m \u001b[38;5;28;01mif\u001b[39;00m \u001b[38;5;28mself\u001b[39m\u001b[38;5;241m.\u001b[39mcolumns\u001b[38;5;241m.\u001b[39mnlevels \u001b[38;5;241m>\u001b[39m \u001b[38;5;241m1\u001b[39m:\n\u001b[1;32m   3504\u001b[0m     \u001b[38;5;28;01mreturn\u001b[39;00m \u001b[38;5;28mself\u001b[39m\u001b[38;5;241m.\u001b[39m_getitem_multilevel(key)\n\u001b[0;32m-> 3505\u001b[0m indexer \u001b[38;5;241m=\u001b[39m \u001b[38;5;28;43mself\u001b[39;49m\u001b[38;5;241;43m.\u001b[39;49m\u001b[43mcolumns\u001b[49m\u001b[38;5;241;43m.\u001b[39;49m\u001b[43mget_loc\u001b[49m\u001b[43m(\u001b[49m\u001b[43mkey\u001b[49m\u001b[43m)\u001b[49m\n\u001b[1;32m   3506\u001b[0m \u001b[38;5;28;01mif\u001b[39;00m is_integer(indexer):\n\u001b[1;32m   3507\u001b[0m     indexer \u001b[38;5;241m=\u001b[39m [indexer]\n",
      "File \u001b[0;32m~/opt/anaconda3/lib/python3.9/site-packages/pandas/core/indexes/base.py:3623\u001b[0m, in \u001b[0;36mIndex.get_loc\u001b[0;34m(self, key, method, tolerance)\u001b[0m\n\u001b[1;32m   3621\u001b[0m     \u001b[38;5;28;01mreturn\u001b[39;00m \u001b[38;5;28mself\u001b[39m\u001b[38;5;241m.\u001b[39m_engine\u001b[38;5;241m.\u001b[39mget_loc(casted_key)\n\u001b[1;32m   3622\u001b[0m \u001b[38;5;28;01mexcept\u001b[39;00m \u001b[38;5;167;01mKeyError\u001b[39;00m \u001b[38;5;28;01mas\u001b[39;00m err:\n\u001b[0;32m-> 3623\u001b[0m     \u001b[38;5;28;01mraise\u001b[39;00m \u001b[38;5;167;01mKeyError\u001b[39;00m(key) \u001b[38;5;28;01mfrom\u001b[39;00m \u001b[38;5;21;01merr\u001b[39;00m\n\u001b[1;32m   3624\u001b[0m \u001b[38;5;28;01mexcept\u001b[39;00m \u001b[38;5;167;01mTypeError\u001b[39;00m:\n\u001b[1;32m   3625\u001b[0m     \u001b[38;5;66;03m# If we have a listlike key, _check_indexing_error will raise\u001b[39;00m\n\u001b[1;32m   3626\u001b[0m     \u001b[38;5;66;03m#  InvalidIndexError. Otherwise we fall through and re-raise\u001b[39;00m\n\u001b[1;32m   3627\u001b[0m     \u001b[38;5;66;03m#  the TypeError.\u001b[39;00m\n\u001b[1;32m   3628\u001b[0m     \u001b[38;5;28mself\u001b[39m\u001b[38;5;241m.\u001b[39m_check_indexing_error(key)\n",
      "\u001b[0;31mKeyError\u001b[0m: 'NR_HR'"
     ]
    }
   ],
   "source": [
    "temp=normalized_df['NR_HR']\n",
    "df_5=normalized_df.drop(['NR_HR'], axis=1)\n",
    "Y=temp.values\n",
    "X=normalized_df.values"
   ]
  },
  {
   "cell_type": "code",
   "execution_count": null,
   "metadata": {},
   "outputs": [],
   "source": [
    "for train_index,val_index in kf.split(X):\n",
    "    X_train,X_test = df_5.iloc[train_index],df_5.iloc[val_index],\n",
    "    y_train,y_test = temp.iloc[train_index],temp.iloc[val_index]"
   ]
  },
  {
   "cell_type": "code",
   "execution_count": null,
   "metadata": {},
   "outputs": [],
   "source": [
    "X_train_sub, X_test_sub, y_train_sub, y_test_sub = train_test_split(X_train, y_train, test_size=0.33, random_state=1)"
   ]
  },
  {
   "cell_type": "code",
   "execution_count": null,
   "metadata": {},
   "outputs": [],
   "source": [
    "scores=evaluate(models, X_train_sub, X_test_sub, y_train_sub, y_test_sub)"
   ]
  },
  {
   "cell_type": "code",
   "execution_count": null,
   "metadata": {},
   "outputs": [],
   "source": [
    "ensemble=VotingRegressor(estimators=models, weights=scores)"
   ]
  },
  {
   "cell_type": "code",
   "execution_count": null,
   "metadata": {},
   "outputs": [],
   "source": [
    "ensemble.fit(X_train, y_train)"
   ]
  },
  {
   "cell_type": "code",
   "execution_count": null,
   "metadata": {},
   "outputs": [],
   "source": [
    "ensemble.score(X_test, y_test)"
   ]
  },
  {
   "cell_type": "code",
   "execution_count": null,
   "metadata": {},
   "outputs": [],
   "source": [
    "final_df=pd.DataFrame()\n",
    "final_df['Feature']=X_train.columns\n",
    "final_df['Importance']=feature_importance(ensemble, scores)\n",
    "final_df.sort_values('Importance', ascending=False)\n",
    "new_df=final_df.sort_values('Importance')"
   ]
  },
  {
   "cell_type": "code",
   "execution_count": null,
   "metadata": {},
   "outputs": [],
   "source": [
    "ax = new_df.plot.barh(x='Feature',y='Importance', rot=0, figsize=(15,10))"
   ]
  },
  {
   "cell_type": "code",
   "execution_count": null,
   "metadata": {},
   "outputs": [],
   "source": [
    "normalized_df"
   ]
  },
  {
   "cell_type": "code",
   "execution_count": null,
   "metadata": {},
   "outputs": [],
   "source": [
    "df_2"
   ]
  }
 ],
 "metadata": {
  "kernelspec": {
   "display_name": "Python 3 (ipykernel)",
   "language": "python",
   "name": "python3"
  },
  "language_info": {
   "codemirror_mode": {
    "name": "ipython",
    "version": 3
   },
   "file_extension": ".py",
   "mimetype": "text/x-python",
   "name": "python",
   "nbconvert_exporter": "python",
   "pygments_lexer": "ipython3",
   "version": "3.9.12"
  }
 },
 "nbformat": 4,
 "nbformat_minor": 4
}
